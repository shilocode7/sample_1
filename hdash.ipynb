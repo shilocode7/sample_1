{
 "cells": [
  {
   "cell_type": "markdown",
   "metadata": {},
   "source": [
    "כל השפןת ולמה כותבים בהן\n",
    "\n",
    "C - שפת סי - נועדה לפרטים קטנים, נועדה לדברים מהירים כמו רכיבים אלקטרונים וטילים דברים שצריך מהירות"
   ]
  },
  {
   "cell_type": "markdown",
   "metadata": {},
   "source": [
    "C++ - נועדה לקלאסים ואובייקטים"
   ]
  },
  {
   "cell_type": "markdown",
   "metadata": {},
   "source": [
    "VC++ - נועדה לדברים וויזואלים "
   ]
  },
  {
   "cell_type": "markdown",
   "metadata": {},
   "source": [
    "JAVA - שפה שמתאימה לכל פלטפורמות"
   ]
  },
  {
   "cell_type": "markdown",
   "metadata": {},
   "source": [
    "JAVA SCRPIT - מבצעת פעולות בתוך הברווסור, 98 אחוז מהאתרים בעולם זה השפת הלוגיקה שלהם, זה השפה בתוך האתר."
   ]
  },
  {
   "cell_type": "markdown",
   "metadata": {},
   "source": [
    "NODEJS - גאווה סקריפט שרצה מחוץ לברווסור והוא רץ על מערכת הפעלה"
   ]
  },
  {
   "cell_type": "markdown",
   "metadata": {},
   "source": [
    "PYTHON -  שפה קלה ללמידה, פייתון היא אוסף של פאקג וכל אחד נותן לה משהוpecag \n",
    "\n",
    "שפה ממוקדת עצמים"
   ]
  },
  {
   "cell_type": "markdown",
   "metadata": {},
   "source": [
    "DOTNET - שייך למייקרוסופט, קבוצת שפות, שמשתמשים רק בסי שארפ וזה גישת פיתוח."
   ]
  },
  {
   "cell_type": "markdown",
   "metadata": {},
   "source": [
    "OPEN SOURCE - אומר שכל אחד יכול לכתוב פאקג ובכך להוסיף לשפה משהו packeg"
   ]
  },
  {
   "cell_type": "markdown",
   "metadata": {},
   "source": [
    "GITHUB - אתר של מייקרוספוט, ניתן להעלות אליו חינם לגמרי קוד על מנת להשתמש או לחלוק."
   ]
  },
  {
   "cell_type": "markdown",
   "metadata": {},
   "source": [
    "אובייקט - מורכב מ 3 רשימות, תוכנות, פעולות ואירועים.\n",
    "\n",
    "תרגיל - להגדיר חייל בשחמט"
   ]
  },
  {
   "cell_type": "markdown",
   "metadata": {},
   "source": [
    "בתוך הכרום רצות 3 שפות, CSS, JS, HTML\n",
    "\n",
    "צד השרת הוא פייתון\n",
    "\n",
    "לכן נלמד בק אנד בפייתון\n",
    "\n",
    "פרונט אנד בשפות שאפשר"
   ]
  },
  {
   "cell_type": "markdown",
   "metadata": {},
   "source": [
    "כל תוכנה צריכה להיות מורכבת מ3 חלקים.\n",
    "\n",
    "תצוגה - שהמשתמש יראה מה הוא עושה - HTML\n",
    "\n",
    "LOGIC - JS / PYTHON\n",
    "\n",
    "DATA - בסיס נתונים מסוים - JSON\n",
    "\n",
    "כל תוכנה מורכבת מ - DATA, LOGIC, VIEW\n"
   ]
  },
  {
   "cell_type": "markdown",
   "metadata": {},
   "source": [
    "VSS - זה טוב\n"
   ]
  }
 ],
 "metadata": {
  "kernelspec": {
   "display_name": "Python 3.10.7 64-bit",
   "language": "python",
   "name": "python3"
  },
  "language_info": {
   "name": "python",
   "version": "3.10.7"
  },
  "orig_nbformat": 4,
  "vscode": {
   "interpreter": {
    "hash": "eddb675a54e8355501f239c8f8b596105103fb707498a43e61809565bd077d84"
   }
  }
 },
 "nbformat": 4,
 "nbformat_minor": 2
}
